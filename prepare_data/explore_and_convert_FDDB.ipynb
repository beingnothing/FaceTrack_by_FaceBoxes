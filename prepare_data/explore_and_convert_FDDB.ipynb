{
 "cells": [
  {
   "cell_type": "code",
   "execution_count": null,
   "metadata": {},
   "outputs": [],
   "source": [
    "import numpy as np\n",
    "import json\n",
    "from PIL import Image, ImageDraw\n",
    "import os\n",
    "import cv2\n",
    "import pandas as pd\n",
    "from tqdm import tqdm\n",
    "import shutil\n",
    "import random"
   ]
  },
  {
   "cell_type": "markdown",
   "metadata": {},
   "source": [
    "The purpose of this script is to explore images/annotations of the FDDB dataset.  \n",
    "Also it converts face ellipses into face bounding boxes.  \n",
    "Also it converts annotations into json format."
   ]
  },
  {
   "cell_type": "code",
   "execution_count": null,
   "metadata": {},
   "outputs": [],
   "source": [
    "IMAGES_DIR = '/home/gpu2/hdd/dan/FDDB/originalPics/'\n",
    "BOXES_DIR = '/home/gpu2/hdd/dan/FDDB/FDDB-folds/'\n",
    "RESULT_DIR = '/home/gpu2/hdd/dan/FDDB/val/'"
   ]
  },
  {
   "cell_type": "markdown",
   "metadata": {},
   "source": [
    "# Read data"
   ]
  },
  {
   "cell_type": "code",
   "execution_count": null,
   "metadata": {},
   "outputs": [],
   "source": [
    "# collect paths to all images\n",
    "\n",
    "all_paths = []\n",
    "for path, subdirs, files in tqdm(os.walk(IMAGES_DIR)):\n",
    "    for name in files:\n",
    "        all_paths.append(os.path.join(path, name))\n",
    "        \n",
    "metadata = pd.DataFrame(all_paths, columns=['full_path'])\n",
    "\n",
    "# strip root folder\n",
    "metadata['path'] = metadata.full_path.apply(lambda x: os.path.relpath(x, IMAGES_DIR))"
   ]
  },
  {
   "cell_type": "code",
   "execution_count": null,
   "metadata": {},
   "outputs": [],
   "source": [
    "# all unique endings\n",
    "metadata.path.apply(lambda x: x.split('.')[-1]).unique()"
   ]
  },
  {
   "cell_type": "code",
   "execution_count": null,
   "metadata": {},
   "outputs": [],
   "source": [
    "# number of images\n",
    "len(metadata)"
   ]
  },
  {
   "cell_type": "code",
   "execution_count": null,
   "metadata": {},
   "outputs": [],
   "source": [
    "annotation_files = os.listdir(BOXES_DIR)\n",
    "annotation_files = [f for f in annotation_files if f.endswith('ellipseList.txt')]\n",
    "annotation_files = [os.path.join(BOXES_DIR, f) for f in annotation_files]"
   ]
  },
  {
   "cell_type": "code",
   "execution_count": null,
   "metadata": {},
   "outputs": [],
   "source": [
    "def ellipse_to_box(major_axis_radius, minor_axis_radius, angle, center_x, center_y):\n",
    "    half_h = major_axis_radius * np.sin(-angle)\n",
    "    half_w = minor_axis_radius * np.sin(-angle)\n",
    "    xmin, xmax = center_x - half_w, center_x + half_w\n",
    "    ymin, ymax = center_y - half_h, center_y + half_h\n",
    "    return xmin, ymin, xmax, ymax\n",
    "\n",
    "\n",
    "def get_boxes(path):\n",
    "    \n",
    "    with open(path, 'r') as f:\n",
    "        content = f.readlines()\n",
    "        content = [s.strip() for s in content]\n",
    "\n",
    "    boxes = {}\n",
    "    num_lines = len(content)\n",
    "    i = 0\n",
    "    name = None\n",
    "\n",
    "    while i < num_lines:\n",
    "        s = content[i]\n",
    "        if 'big/img' in s:\n",
    "            if name is not None:\n",
    "                assert len(boxes[name]) == num_boxes\n",
    "            name = s + '.jpg'\n",
    "            boxes[name] = []\n",
    "            i += 1\n",
    "            num_boxes = int(content[i])\n",
    "            i += 1\n",
    "        else:\n",
    "            numbers = [float(f) for f in s.split(' ')[:5]]\n",
    "            major_axis_radius, minor_axis_radius, angle, center_x, center_y = numbers\n",
    "\n",
    "            xmin, ymin, xmax, ymax = ellipse_to_box(\n",
    "                major_axis_radius, minor_axis_radius, \n",
    "                angle, center_x, center_y\n",
    "            )\n",
    "            if xmin == xmax or ymin == ymax:\n",
    "                num_boxes -= 1\n",
    "            else:\n",
    "                boxes[name].append((\n",
    "                    min(xmin, xmax), min(ymin, ymax), \n",
    "                    max(xmin, xmax), max(ymin, ymax)\n",
    "                ))\n",
    "            i += 1\n",
    "    return boxes"
   ]
  },
  {
   "cell_type": "code",
   "execution_count": null,
   "metadata": {},
   "outputs": [],
   "source": [
    "boxes = {}\n",
    "for p in annotation_files:\n",
    "    boxes.update(get_boxes(p))"
   ]
  },
  {
   "cell_type": "code",
   "execution_count": null,
   "metadata": {},
   "outputs": [],
   "source": [
    "# check number of images with annotations\n",
    "# and number of boxes\n",
    "# (these values are taken from the official website) \n",
    "assert len(boxes) == 2845\n",
    "assert sum(len(b) for b in boxes.values()) == 5171 - 1  # one box is empty"
   ]
  },
  {
   "cell_type": "code",
   "execution_count": null,
   "metadata": {},
   "outputs": [],
   "source": [
    "metadata = metadata.loc[metadata.path.apply(lambda x: x in boxes)]\n",
    "metadata = metadata.reset_index(drop=True)"
   ]
  },
  {
   "cell_type": "markdown",
   "metadata": {},
   "source": [
    "# Show bounding boxes"
   ]
  },
  {
   "cell_type": "code",
   "execution_count": null,
   "metadata": {},
   "outputs": [],
   "source": [
    "def draw_boxes_on_image(path, boxes):\n",
    "\n",
    "    image = Image.open(path)\n",
    "    draw = ImageDraw.Draw(image, 'RGBA')\n",
    "    width, height = image.size\n",
    "\n",
    "    for b in boxes:\n",
    "        xmin, ymin, xmax, ymax = b\n",
    "\n",
    "        fill = (255, 255, 255, 45)\n",
    "        outline = 'red'\n",
    "        draw.rectangle(\n",
    "            [(xmin, ymin), (xmax, ymax)],\n",
    "            fill=fill, outline=outline\n",
    "        )\n",
    "    return image"
   ]
  },
  {
   "cell_type": "code",
   "execution_count": null,
   "metadata": {
    "scrolled": false
   },
   "outputs": [],
   "source": [
    "i = random.randint(0, len(metadata) - 1)  # choose a random image\n",
    "some_boxes = boxes[metadata.path[i]]\n",
    "draw_boxes_on_image(metadata.full_path[i], some_boxes)"
   ]
  },
  {
   "cell_type": "markdown",
   "metadata": {},
   "source": [
    "# Convert"
   ]
  },
  {
   "cell_type": "code",
   "execution_count": null,
   "metadata": {},
   "outputs": [],
   "source": [
    "def get_annotation(path, name, width, height):\n",
    "    annotation = {\n",
    "      \"filename\": name,\n",
    "      \"size\": {\"depth\": 3, \"width\": width, \"height\": height}\n",
    "    }\n",
    "    objects = []\n",
    "    for b in boxes[path]:\n",
    "        xmin, ymin, xmax, ymax = b\n",
    "        objects.append({\"bndbox\": {\"ymin\": ymin, \"ymax\": ymax, \"xmax\": xmax, \"xmin\": xmin}, \"name\": \"face\"})\n",
    "    annotation[\"object\"] = objects\n",
    "    return annotation"
   ]
  },
  {
   "cell_type": "code",
   "execution_count": null,
   "metadata": {},
   "outputs": [],
   "source": [
    "shutil.rmtree(RESULT_DIR, ignore_errors=True)\n",
    "os.mkdir(RESULT_DIR)\n",
    "os.mkdir(os.path.join(RESULT_DIR, 'images'))\n",
    "os.mkdir(os.path.join(RESULT_DIR, 'annotations'))"
   ]
  },
  {
   "cell_type": "code",
   "execution_count": null,
   "metadata": {},
   "outputs": [],
   "source": [
    "for T in tqdm(metadata.itertuples()):\n",
    "    \n",
    "    # get width and height of an image\n",
    "    image = cv2.imread(T.full_path)\n",
    "    h, w, c = image.shape\n",
    "    assert c == 3\n",
    "    \n",
    "    # name of the image\n",
    "    name = '-'.join(T.path.split('/')[:3]) + '_' + T.path.split('/')[-1]\n",
    "    assert name.endswith('.jpg')\n",
    "\n",
    "    # copy the image\n",
    "    shutil.copy(T.full_path, os.path.join(RESULT_DIR, 'images', name))\n",
    "    \n",
    "    # save annotation for it\n",
    "    d = get_annotation(T.path, name, w, h)\n",
    "    json_name = name[:-4] + '.json'\n",
    "    json.dump(d, open(os.path.join(RESULT_DIR, 'annotations', json_name), 'w')) "
   ]
  }
 ],
 "metadata": {
  "kernelspec": {
   "display_name": "Python 3",
   "language": "python",
   "name": "python3"
  },
  "language_info": {
   "codemirror_mode": {
    "name": "ipython",
    "version": 3
   },
   "file_extension": ".py",
   "mimetype": "text/x-python",
   "name": "python",
   "nbconvert_exporter": "python",
   "pygments_lexer": "ipython3",
   "version": "3.6.3"
  }
 },
 "nbformat": 4,
 "nbformat_minor": 1
}
